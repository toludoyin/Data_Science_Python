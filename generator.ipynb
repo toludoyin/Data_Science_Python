{
 "cells": [
  {
   "cell_type": "code",
   "execution_count": 3,
   "metadata": {},
   "outputs": [
    {
     "name": "stdout",
     "output_type": "stream",
     "text": [
      "44\n",
      "3\n",
      "2\n",
      "5\n"
     ]
    }
   ],
   "source": [
    "# generators>>are>>functions>>that>>act>>like>>iterators.\n",
    "def ktt():\n",
    "  yield 44\n",
    "  yield 3\n",
    "  yield 2\n",
    "  yield 5\n",
    "\n",
    "for k in ktt():\n",
    "  print(k)"
   ]
  },
  {
   "cell_type": "code",
   "execution_count": 24,
   "metadata": {},
   "outputs": [
    {
     "name": "stdout",
     "output_type": "stream",
     "text": [
      "2\n",
      "3\n",
      "5\n",
      "7\n",
      "11\n",
      "13\n",
      "17\n",
      "19\n",
      "23\n"
     ]
    }
   ],
   "source": [
    "import itertools\n",
    "\n",
    "def prime_number():\n",
    "    \"\"\"function that iterate over prime numbers.\n",
    "    prime numbers are divisible by itself and 1\n",
    "    odd numbers are numbers that are not divisible by 2\n",
    "    even numbers are numbers that are divisible by 2\n",
    "    \"\"\"\n",
    "    yield 2\n",
    "    prime_cache = [2]\n",
    "\n",
    "    # starting value and how much to increase by in each step, loop over positive, odd integers\n",
    "    for prime_num in itertools.count(3, 2):\n",
    "        is_prime = True\n",
    "\n",
    "        for num_in_cache in prime_cache:\n",
    "            if prime_num % num_in_cache == 0:\n",
    "                is_prime = False\n",
    "                break\n",
    "\n",
    "        if is_prime:\n",
    "            prime_cache.append(prime_num)\n",
    "            yield prime_num\n",
    "\n",
    "for num_in_cache in prime_number():\n",
    "    print (num_in_cache)\n",
    "    if num_in_cache > 20:\n",
    "        break\n"
   ]
  },
  {
   "cell_type": "code",
   "execution_count": 42,
   "metadata": {},
   "outputs": [
    {
     "name": "stdout",
     "output_type": "stream",
     "text": [
      "1\n",
      "4\n",
      "9\n",
      "16\n",
      "25\n"
     ]
    }
   ],
   "source": [
    "# generator expression\n",
    "import itertools\n",
    "\n",
    "square = (num ** 2 for num in itertools.count(1))\n",
    "\n",
    "for num in square:\n",
    "    print(num)\n",
    "    if num >20:\n",
    "        square.close()"
   ]
  },
  {
   "cell_type": "code",
   "execution_count": null,
   "metadata": {},
   "outputs": [],
   "source": []
  }
 ],
 "metadata": {
  "interpreter": {
   "hash": "aee8b7b246df8f9039afb4144a1f6fd8d2ca17a180786b69acc140d282b71a49"
  },
  "kernelspec": {
   "display_name": "Python 3.9.6 64-bit",
   "language": "python",
   "name": "python3"
  },
  "language_info": {
   "codemirror_mode": {
    "name": "ipython",
    "version": 3
   },
   "file_extension": ".py",
   "mimetype": "text/x-python",
   "name": "python",
   "nbconvert_exporter": "python",
   "pygments_lexer": "ipython3",
   "version": "3.9.6"
  },
  "orig_nbformat": 4
 },
 "nbformat": 4,
 "nbformat_minor": 2
}
