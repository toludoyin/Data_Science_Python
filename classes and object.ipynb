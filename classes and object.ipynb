{
 "cells": [
  {
   "cell_type": "code",
   "execution_count": null,
   "metadata": {},
   "outputs": [],
   "source": [
    "#classes and object"
   ]
  },
  {
   "cell_type": "code",
   "execution_count": 40,
   "metadata": {},
   "outputs": [],
   "source": [
    "class Employees:\n",
    "    def __init__(self, name, gender, age, qualification):\n",
    "        self.name = name\n",
    "        self.gender = gender\n",
    "        self.age = age\n",
    "        self.qualification = qualification\n",
    "        \n",
    "    def introduce_self(self):\n",
    "        print(\"Hello, my name is\"+ self.name, self.gender + \". I am\" + str(self.age) + \"years old and a\" \n",
    "              + self.qualification + \".Thank you.\")   "
   ]
  },
  {
   "cell_type": "code",
   "execution_count": 41,
   "metadata": {},
   "outputs": [],
   "source": [
    "e1 = Employees(\"Tem\",\"Male\",33,\"Software engineer\")\n",
    "e2 = Employees(\"Vic\",\"Female\",25,\"Data analyst\")\n",
    "e3 = Employees(\"Bayo\",\"Male\",22,\"Frontend engineer\")\n",
    "e4 = Employees(\"Subomi\",\"Male\",30,\"Fullstack engineer\")"
   ]
  },
  {
   "cell_type": "code",
   "execution_count": 42,
   "metadata": {},
   "outputs": [
    {
     "name": "stdout",
     "output_type": "stream",
     "text": [
      "Hello, my name isTem Male. I am33years old and aSoftware engineer.Thank you.\n",
      "Hello, my name isVic Female. I am25years old and aData analyst.Thank you.\n",
      "Hello, my name isBayo Male. I am22years old and aFrontend engineer.Thank you.\n",
      "Hello, my name isSubomi Male. I am30years old and aFullstack engineer.Thank you.\n"
     ]
    }
   ],
   "source": [
    "e1.introduce_self()\n",
    "e2.introduce_self()\n",
    "e3.introduce_self()\n",
    "e4.introduce_self()"
   ]
  },
  {
   "cell_type": "code",
   "execution_count": 43,
   "metadata": {},
   "outputs": [],
   "source": [
    "m = \"marital_status\"\n",
    "b = \"blood_group\"\n",
    "e = \"education_status\"\n",
    "\n",
    "class Details:\n",
    "    def __init__(self, m, b, e):\n",
    "        self.marital_status = m \n",
    "        self.blood_group = b \n",
    "        self.education_status = e\n",
    "        \n",
    "    def graduate(self):\n",
    "        self.graduate = True\n",
    "    \n",
    "    def undergraduate(self):\n",
    "        self.graduate = False\n",
    "        "
   ]
  },
  {
   "cell_type": "code",
   "execution_count": 44,
   "metadata": {},
   "outputs": [],
   "source": [
    "d1 = Details(\"Single\", \"AA\", True)\n",
    "d2 = Details(\"Married\", \"AS\", True)\n",
    "d3 = Details(\"Single\", \"AS\", True)\n",
    "d4 = Details(\"Divorce\", \"AA\", False)\n",
    "\n",
    "d1.employees_dt = e2\n",
    "d2.employees_dt = e1\n",
    "d3.employees_dt = e4\n",
    "d4.employees_dt = e3"
   ]
  },
  {
   "cell_type": "code",
   "execution_count": 45,
   "metadata": {},
   "outputs": [
    {
     "name": "stdout",
     "output_type": "stream",
     "text": [
      "Hello, my name isVic Female. I am25years old and aData analyst.Thank you.\n"
     ]
    }
   ],
   "source": [
    "d1.employees_dt.introduce_self()"
   ]
  },
  {
   "cell_type": "code",
   "execution_count": null,
   "metadata": {},
   "outputs": [],
   "source": [
   ]
  }
 ],
 "metadata": {
  "kernelspec": {
   "display_name": "Python 3",
   "language": "python",
   "name": "python3"
  },
  "language_info": {
   "codemirror_mode": {
    "name": "ipython",
    "version": 3
   },
   "file_extension": ".py",
   "mimetype": "text/x-python",
   "name": "python",
   "nbconvert_exporter": "python",
   "pygments_lexer": "ipython3",
   "version": "3.8.3"
  }
 },
 "nbformat": 4,
 "nbformat_minor": 4
}
