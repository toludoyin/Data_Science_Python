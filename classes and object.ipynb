{
 "cells": [
  {
   "cell_type": "markdown",
   "metadata": {},
   "source": [
    "### Classes and Object"
   ]
  },
  {
   "cell_type": "markdown",
   "metadata": {},
   "source": [
    "https://www.youtube.com/watch?v=RSl87lqOXDE"
   ]
  },
  {
   "cell_type": "code",
   "execution_count": 72,
   "metadata": {},
   "outputs": [
    {
     "data": {
      "text/plain": [
       "True"
      ]
     },
     "execution_count": 72,
     "metadata": {},
     "output_type": "execute_result"
    }
   ],
   "source": [
    "# Parent Class\n",
    "# The class is a blueprint to create/describe an object(like a form).\n",
    "# _init_ is a constructor, it help to initialise the attribute in a class\n",
    "class Employees:\n",
    "    def __init__(self, fname, lname, gender, qualification): # instance\n",
    "        self.fname = fname\n",
    "        self.lname = lname\n",
    "        self.gender = gender\n",
    "        self.qualification = qualification\n",
    "        self.email = f\"{fname}{lname}@gmail.com\"\n",
    "        \n",
    "    def fullname(self):\n",
    "        return(f\"{self.fname} {self.lname}\")\n",
    "    \n",
    "    \n",
    " # Child Class(subclasses)\n",
    "class Details(Employees):\n",
    "    def __init__(self, fname, lname, gender, qualification, marital_status, prog_lang):\n",
    "        super().__init__(fname, lname, gender, qualification)\n",
    "        self.marital_status = marital_status \n",
    "        self.prog_lang = prog_lang \n",
    "        \n",
    "class Manager(Employees):\n",
    "    def __init__(self, fname, lname, gender, qualification, employees=None):\n",
    "        super().__init__(fname, lname, gender, qualification)\n",
    "        if employees is None:\n",
    "            self.employees = []\n",
    "        else:\n",
    "            self.employees = employees\n",
    "            \n",
    "    def add_emp(self,emp):\n",
    "        if emp not in self.employees:\n",
    "            self.employees.append(emp)\n",
    "            \n",
    "    def remove_emp(self,emp):\n",
    "        if emp in self.employees:\n",
    "            self.employees.remove(emp)\n",
    "        \n",
    "    def print_emps(self):\n",
    "        for emp in self.employees:\n",
    "            print(emp.fullname())\n",
    "                   \n",
    "# The object also an instance is a collection of data with associated behaviour(filled form)       \n",
    "emp1 = Details(\"Tem\", \"John\", \"Male\",\"Software developer\",\"Single\", \"Python\")\n",
    "emp2 = Details(\"Vic\",\"Alfread\", \"Female\",\"Data analyst\", \"Married\", \"R\")\n",
    "emp3 = Details(\"Bayo\",\"Shun\", \"Male\",\"Frontend engineer\",\"Single\", \"Java\")\n",
    "\n",
    "mgr1 = Manager(\"Samuel\",\"Abey\",\"Male\",\"Software developer\", [emp3])\n",
    "\n",
    "# isinstance function tells us if an object is the instance of a class\n",
    "isinstance(mgr1, Manager)\n",
    "\n",
    "# issubclass function tell us if a class is a subclass of another\n",
    "issubclass(Manager, Employees)\n",
    "\n",
    "\n",
    "# mgr1.email\n",
    "# mgr1.add_emp(emp1)\n",
    "# mgr1.add_emp(emp2)\n",
    "# mgr1.remove_emp(emp1)\n",
    "# mgr1.print_emps()\n",
    "\n",
    "# e1.email\n",
    "# e2.prog_lang"
   ]
  },
  {
   "cell_type": "code",
   "execution_count": 5,
   "metadata": {},
   "outputs": [],
   "source": [
    "# Encapsulation It hide the value of structured data object inside a class, to prevent unauthorised parties direct access to them\n",
    "# attribute = variables, e.g .shape\n",
    "# method = function(), e.g .info()\n",
    "\n",
    "# Inheritance define a class that inherit all method and properties from another class. Extend functionality of existing code\n",
    "\n",
    "# Polymorphism It allow us to perform a single action in different ways. Data can be processed in more than one way. \n",
    "\n",
    "# Abstraction is hiding the internal functionality/ unwanted information from the user and only emphasizing on the usage of it"
   ]
  },
  {
   "cell_type": "code",
   "execution_count": null,
   "metadata": {},
   "outputs": [],
   "source": []
  }
 ],
 "metadata": {
  "kernelspec": {
   "display_name": "Python 3",
   "language": "python",
   "name": "python3"
  },
  "language_info": {
   "codemirror_mode": {
    "name": "ipython",
    "version": 3
   },
   "file_extension": ".py",
   "mimetype": "text/x-python",
   "name": "python",
   "nbconvert_exporter": "python",
   "pygments_lexer": "ipython3",
   "version": "3.8.3"
  }
 },
 "nbformat": 4,
 "nbformat_minor": 4
}
