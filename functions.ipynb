{
 "cells": [
  {
   "cell_type": "markdown",
   "metadata": {},
   "source": [
    "### Functions"
   ]
  },
  {
   "cell_type": "markdown",
   "metadata": {},
   "source": [
    "Function with one arguement"
   ]
  },
  {
   "cell_type": "code",
   "execution_count": null,
   "metadata": {},
   "outputs": [],
   "source": [
    "def math(x):\n",
    "    return x**3+14\n",
    "\n",
    "a=math(45)\n",
    "print(a)\n",
    "b=math(88)\n",
    "print(b)\n",
    "c=math(12)\n",
    "print(c)"
   ]
  },
  {
   "cell_type": "markdown",
   "metadata": {},
   "source": [
    "Function with two arguement"
   ]
  },
  {
   "cell_type": "code",
   "execution_count": null,
   "metadata": {},
   "outputs": [],
   "source": [
    "def food(rice,yam):\n",
    "    print(\"This is the price\")\n",
    "    return rice + yam\n",
    "\n",
    "shop1=food(460,500)\n",
    "print(shop1)\n",
    "\n",
    "shop2=food(900,300)\n",
    "print(shop2)\n",
    "    "
   ]
  },
  {
   "cell_type": "code",
   "execution_count": null,
   "metadata": {},
   "outputs": [],
   "source": [
    "rice1=500\n",
    "yam1=900\n",
    "\n",
    "rice2=550\n",
    "yam2=1000"
   ]
  },
  {
   "cell_type": "code",
   "execution_count": null,
   "metadata": {},
   "outputs": [],
   "source": [
    "def food_price(rice,yam):\n",
    "    price=(rice+yam)\n",
    "    print(\"The price is:\")\n",
    "    print(price)\n",
    "    if price > 1500:\n",
    "        return(\"move forward to the next shop\") #used the return statement\n",
    "    else:\n",
    "        return(\"transfer\")"
   ]
  },
  {
   "cell_type": "code",
   "execution_count": null,
   "metadata": {},
   "outputs": [],
   "source": [
    "result1=food_price(rice1,yam1)\n",
    "result2=food_price(rice2,yam2)"
   ]
  },
  {
   "cell_type": "code",
   "execution_count": null,
   "metadata": {},
   "outputs": [],
   "source": [
    "print(result1)\n",
    "print(result2)"
   ]
  },
  {
   "cell_type": "code",
   "execution_count": null,
   "metadata": {},
   "outputs": [],
   "source": [
    "def convert(miles):\n",
    "    return 1.6*miles\n",
    "\n",
    "a=convert(52)\n",
    "b=convert(45)\n",
    "print(a)\n",
    "print(b)"
   ]
  },
  {
   "cell_type": "code",
   "execution_count": null,
   "metadata": {},
   "outputs": [],
   "source": [
    "miles1=52\n",
    "miles2=45\n",
    "miles3=12"
   ]
  },
  {
   "cell_type": "code",
   "execution_count": null,
   "metadata": {},
   "outputs": [],
   "source": [
    "def convert(miles):\n",
    "    km = 1.6*miles\n",
    "    print(\"miles km:\")\n",
    "    print(km)\n",
    "    if km > 20:\n",
    "        print(\"big miles\")\n",
    "    else:\n",
    "        print(\"underweight\") #used the print statement\n",
    "        \n",
    "result1=convert(miles1)\n",
    "result2=convert(miles2)\n",
    "result3=convert(miles3)\n"
   ]
  },
  {
   "cell_type": "markdown",
   "metadata": {},
   "source": [
    "Boolean"
   ]
  },
  {
   "cell_type": "code",
   "execution_count": null,
   "metadata": {},
   "outputs": [],
   "source": [
    "def sleep_in(weekday,vacation):\n",
    "    if not weekday or vacation:\n",
    "        return False\n",
    "    else:\n",
    "        return True\n"
   ]
  },
  {
   "cell_type": "code",
   "execution_count": null,
   "metadata": {},
   "outputs": [],
   "source": [
    "sleep_in(True,False)"
   ]
  },
  {
   "cell_type": "code",
   "execution_count": null,
   "metadata": {},
   "outputs": [],
   "source": [
    "sleep_in(False,True)"
   ]
  },
  {
   "cell_type": "code",
   "execution_count": null,
   "metadata": {},
   "outputs": [],
   "source": [
    "def maths(a,d,b):\n",
    "    return a > d + b\n",
    "    \n",
    "maths(4,7,2)"
   ]
  },
  {
   "cell_type": "code",
   "execution_count": null,
   "metadata": {},
   "outputs": [],
   "source": []
  }
 ],
 "metadata": {
  "kernelspec": {
   "display_name": "Python 3",
   "language": "python",
   "name": "python3"
  },
  "language_info": {
   "codemirror_mode": {
    "name": "ipython",
    "version": 3
   },
   "file_extension": ".py",
   "mimetype": "text/x-python",
   "name": "python",
   "nbconvert_exporter": "python",
   "pygments_lexer": "ipython3",
   "version": "3.8.3"
  }
 },
 "nbformat": 4,
 "nbformat_minor": 4
}
