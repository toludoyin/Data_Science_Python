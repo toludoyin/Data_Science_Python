{
 "cells": [
  {
   "cell_type": "markdown",
   "metadata": {},
   "source": [
    "### Functions"
   ]
  },
  {
   "cell_type": "markdown",
   "metadata": {},
   "source": [
    "#### Function with one arguement"
   ]
  },
  {
   "cell_type": "code",
   "execution_count": 4,
   "metadata": {},
   "outputs": [
    {
     "name": "stdout",
     "output_type": "stream",
     "text": [
      "91139\n",
      "681486\n",
      "1742\n"
     ]
    }
   ],
   "source": [
    "def math(x):\n",
    "    return x**3+14\n",
    "\n",
    "a=math(45)\n",
    "print(a)\n",
    "b=math(88)\n",
    "print(b)\n",
    "c=math(12)\n",
    "print(c)"
   ]
  },
  {
   "cell_type": "code",
   "execution_count": 7,
   "metadata": {},
   "outputs": [
    {
     "name": "stdout",
     "output_type": "stream",
     "text": [
      "83.2\n",
      "72.0\n"
     ]
    }
   ],
   "source": [
    "def convert(miles):\n",
    "    return 1.6*miles\n",
    "\n",
    "a=convert(52)\n",
    "b=convert(45)\n",
    "print(a)\n",
    "print(b)"
   ]
  },
  {
   "cell_type": "code",
   "execution_count": 5,
   "metadata": {},
   "outputs": [
    {
     "name": "stdout",
     "output_type": "stream",
     "text": [
      "miles km:\n",
      "83.2\n",
      "big miles\n",
      "miles km:\n",
      "72.0\n",
      "big miles\n",
      "miles km:\n",
      "19.200000000000003\n",
      "underweight\n"
     ]
    }
   ],
   "source": [
    "miles1=52\n",
    "miles2=45\n",
    "miles3=12\n",
    "\n",
    "def convert(miles):\n",
    "    km = 1.6*miles\n",
    "    print(\"miles km:\")\n",
    "    print(km)\n",
    "    if km > 20:\n",
    "        print(\"big miles\")\n",
    "    else:\n",
    "        print(\"underweight\") #used the print statement\n",
    "        \n",
    "result1=convert(miles1)\n",
    "result2=convert(miles2)\n",
    "result3=convert(miles3)\n"
   ]
  },
  {
   "cell_type": "markdown",
   "metadata": {},
   "source": [
    "#### Function with two arguement"
   ]
  },
  {
   "cell_type": "code",
   "execution_count": 6,
   "metadata": {},
   "outputs": [
    {
     "name": "stdout",
     "output_type": "stream",
     "text": [
      "This is the price\n",
      "960\n",
      "This is the price\n",
      "1200\n"
     ]
    }
   ],
   "source": [
    "def food(rice,yam):\n",
    "    print(\"This is the price\")\n",
    "    return rice + yam\n",
    "\n",
    "shop1=food(460,500)\n",
    "print(shop1)\n",
    "\n",
    "shop2=food(900,300)\n",
    "print(shop2)\n",
    "    "
   ]
  },
  {
   "cell_type": "code",
   "execution_count": 5,
   "metadata": {},
   "outputs": [
    {
     "name": "stdout",
     "output_type": "stream",
     "text": [
      "The price is:\n",
      "1400\n",
      "The price is:\n",
      "1550\n",
      "transfer\n",
      "move forward to the next shop\n"
     ]
    }
   ],
   "source": [
    "rice1=500\n",
    "yam1=900\n",
    "\n",
    "rice2=550\n",
    "yam2=1000\n",
    "\n",
    "def food_price(rice,yam):\n",
    "    price=(rice+yam)\n",
    "    print(\"The price is:\")\n",
    "    print(price)\n",
    "    if price > 1500:\n",
    "        return(\"move forward to the next shop\") #used the return statement\n",
    "    else:\n",
    "        return(\"transfer\")\n",
    "    \n",
    "result1=food_price(rice1,yam1)\n",
    "result2=food_price(rice2,yam2)\n",
    "\n",
    "print(result1)\n",
    "print(result2)"
   ]
  },
  {
   "cell_type": "markdown",
   "metadata": {},
   "source": [
    "#### Boolean"
   ]
  },
  {
   "cell_type": "code",
   "execution_count": 10,
   "metadata": {},
   "outputs": [
    {
     "name": "stdout",
     "output_type": "stream",
     "text": [
      "True\n",
      "False\n"
     ]
    }
   ],
   "source": [
    "def sleep_in(weekday,vacation):\n",
    "    if not weekday or vacation:\n",
    "        return False\n",
    "    else:\n",
    "        return True\n",
    "    \n",
    "print(sleep_in(True,False))\n",
    "print(sleep_in(False,True))"
   ]
  },
  {
   "cell_type": "code",
   "execution_count": 30,
   "metadata": {},
   "outputs": [
    {
     "name": "stdout",
     "output_type": "stream",
     "text": [
      "False\n"
     ]
    }
   ],
   "source": [
    "def maths(a,d,b):\n",
    "    print(a > d + b)\n",
    "    \n",
    "maths(4,7,2)"
   ]
  },
  {
   "cell_type": "markdown",
   "metadata": {},
   "source": [
    "### Global keyword"
   ]
  },
  {
   "cell_type": "code",
   "execution_count": 1,
   "metadata": {},
   "outputs": [
    {
     "name": "stdout",
     "output_type": "stream",
     "text": [
      "300\n"
     ]
    }
   ],
   "source": [
    "x = 300\n",
    "\n",
    "def number():\n",
    "    print(x)\n",
    "number()"
   ]
  },
  {
   "cell_type": "code",
   "execution_count": 3,
   "metadata": {},
   "outputs": [
    {
     "name": "stdout",
     "output_type": "stream",
     "text": [
      "1000\n"
     ]
    }
   ],
   "source": [
    "# to modify the global variable\n",
    "x= 500\n",
    "def maem():\n",
    "    global x\n",
    "    x=1000\n",
    "    print(x)\n",
    "maem()"
   ]
  },
  {
   "cell_type": "markdown",
   "metadata": {},
   "source": [
    "### Lambda expression (anonymous function)"
   ]
  },
  {
   "cell_type": "code",
   "execution_count": 12,
   "metadata": {},
   "outputs": [
    {
     "data": {
      "text/plain": [
       "<function __main__.<lambda>(x)>"
      ]
     },
     "execution_count": 12,
     "metadata": {},
     "output_type": "execute_result"
    }
   ],
   "source": [
    "lambda x: x**8"
   ]
  },
  {
   "cell_type": "code",
   "execution_count": 16,
   "metadata": {},
   "outputs": [
    {
     "data": {
      "text/plain": [
       "[0, 1, 256, 6561, 65536]"
      ]
     },
     "execution_count": 16,
     "metadata": {},
     "output_type": "execute_result"
    }
   ],
   "source": [
    "list(map(lambda x: x**8,range(5)))"
   ]
  },
  {
   "cell_type": "code",
   "execution_count": 21,
   "metadata": {},
   "outputs": [
    {
     "data": {
      "text/plain": [
       "[9, 10, 11, 12, 13, 14]"
      ]
     },
     "execution_count": 21,
     "metadata": {},
     "output_type": "execute_result"
    }
   ],
   "source": [
    "list(filter(lambda x: x>8,range(15)))"
   ]
  },
  {
   "cell_type": "code",
   "execution_count": 27,
   "metadata": {},
   "outputs": [
    {
     "data": {
      "text/plain": [
       "['Amazon', 'Netflix', 'Google', 'Facebook', 'Apple']"
      ]
     },
     "execution_count": 27,
     "metadata": {},
     "output_type": "execute_result"
    }
   ],
   "source": [
    "stocks = ['Amazon', 'Netflix', 'Google', 'Facebook','Apple']\n",
    "stocks"
   ]
  },
  {
   "cell_type": "code",
   "execution_count": 28,
   "metadata": {},
   "outputs": [
    {
     "data": {
      "text/plain": [
       "[False, False, True, False, False]"
      ]
     },
     "execution_count": 28,
     "metadata": {},
     "output_type": "execute_result"
    }
   ],
   "source": [
    "list(map(lambda x: x[0] == 'G' and x[-1] == 'e', stocks))"
   ]
  },
  {
   "cell_type": "code",
   "execution_count": 29,
   "metadata": {},
   "outputs": [
    {
     "data": {
      "text/plain": [
       "['Amazon', 'Apple']"
      ]
     },
     "execution_count": 29,
     "metadata": {},
     "output_type": "execute_result"
    }
   ],
   "source": [
    "list(filter(lambda x: x[0] == 'A', stocks))"
   ]
  },
  {
   "cell_type": "markdown",
   "metadata": {},
   "source": [
    "### Regular Expression(RegEx)"
   ]
  },
  {
   "cell_type": "code",
   "execution_count": 20,
   "metadata": {},
   "outputs": [],
   "source": [
    "import re"
   ]
  },
  {
   "cell_type": "code",
   "execution_count": 24,
   "metadata": {
    "scrolled": true
   },
   "outputs": [
    {
     "name": "stdout",
     "output_type": "stream",
     "text": [
      "Right!\n"
     ]
    }
   ],
   "source": [
    "# To search returns a match object\n",
    "word=\"My Name is Toludoyin. A Data Scientist\"\n",
    "x =re.search(\"Scientist\", word)\n",
    "if x:\n",
    "    print(\"Right!\")\n",
    "else:\n",
    "    print(\"Try again\")"
   ]
  },
  {
   "cell_type": "code",
   "execution_count": 23,
   "metadata": {},
   "outputs": [
    {
     "name": "stdout",
     "output_type": "stream",
     "text": [
      "['is', 'is']\n"
     ]
    }
   ],
   "source": [
    "# To findall, returns a list containing all matches\n",
    "word=\"My Name is Toludoyin. A Data Scientist\"\n",
    "x =re.findall(\"is\", word)\n",
    "print(x)"
   ]
  },
  {
   "cell_type": "code",
   "execution_count": null,
   "metadata": {},
   "outputs": [],
   "source": [
    "# To sub, replace one or many matches with a string"
   ]
  },
  {
   "cell_type": "code",
   "execution_count": null,
   "metadata": {},
   "outputs": [],
   "source": [
    "# To split, return list of string where it has been splited at each matches"
   ]
  },
  {
   "cell_type": "markdown",
   "metadata": {},
   "source": [
    "### Metacharacter"
   ]
  },
  {
   "cell_type": "code",
   "execution_count": null,
   "metadata": {},
   "outputs": [],
   "source": [
    "^ = startwith\n",
    "$ = endswith\n",
    "() = capture the group\n",
    "| = either or\n",
    "{} = exactly the specify number of occurence\n",
    "[] = set of characters\n",
    "* = zero or more occurence\n",
    "+ = one or more occurence\n",
    ". = any character"
   ]
  },
  {
   "cell_type": "markdown",
   "metadata": {},
   "source": [
    "#### Try and Except"
   ]
  },
  {
   "cell_type": "code",
   "execution_count": null,
   "metadata": {},
   "outputs": [],
   "source": [
    "# Try block allows to test a block of code for error\n",
    "# Except block handles the error\n",
    "# Finally block let you execute the code regardless of the try and except block"
   ]
  },
  {
   "cell_type": "code",
   "execution_count": null,
   "metadata": {},
   "outputs": [],
   "source": []
  }
 ],
 "metadata": {
  "kernelspec": {
   "display_name": "Python 3",
   "language": "python",
   "name": "python3"
  },
  "language_info": {
   "codemirror_mode": {
    "name": "ipython",
    "version": 3
   },
   "file_extension": ".py",
   "mimetype": "text/x-python",
   "name": "python",
   "nbconvert_exporter": "python",
   "pygments_lexer": "ipython3",
   "version": "3.8.3"
  }
 },
 "nbformat": 4,
 "nbformat_minor": 4
}
