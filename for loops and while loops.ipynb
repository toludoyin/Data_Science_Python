{
 "cells": [
  {
   "cell_type": "markdown",
   "metadata": {},
   "source": [
    "### For loop,while loop and if else statement"
   ]
  },
  {
   "cell_type": "markdown",
   "metadata": {},
   "source": [
    "for loop\n",
    " it is used to iterate over a item of a collection e.g a string"
   ]
  },
  {
   "cell_type": "code",
   "execution_count": null,
   "metadata": {},
   "outputs": [],
   "source": [
    "learning=[\"youtube\", \"datacamp\", \"cousera\", \"udemy\"]"
   ]
  },
  {
   "cell_type": "code",
   "execution_count": null,
   "metadata": {},
   "outputs": [],
   "source": [
    "for a in learning:\n",
    "    print(a)"
   ]
  },
  {
   "cell_type": "code",
   "execution_count": null,
   "metadata": {},
   "outputs": [],
   "source": [
    "total1=0\n",
    "for i in range(1,100):\n",
    "    if i % 3 or i % 5 == 0:\n",
    "        total1+=i\n",
    "print(total1)"
   ]
  },
  {
   "cell_type": "markdown",
   "metadata": {},
   "source": [
    "Iterating thorough or using a given number"
   ]
  },
  {
   "cell_type": "code",
   "execution_count": null,
   "metadata": {},
   "outputs": [],
   "source": [
    "list=[4,6,8]\n",
    "for new_list1 in list:\n",
    "    new_list = \" \"\n",
    "    for x in range(new_list1):\n",
    "        new_list += \"A\"\n",
    "    print(new_list)"
   ]
  },
  {
   "cell_type": "markdown",
   "metadata": {},
   "source": [
    "nested loop;adding a loop inside another loop. \n",
    "break;is use to terminate a loop"
   ]
  },
  {
   "cell_type": "code",
   "execution_count": null,
   "metadata": {},
   "outputs": [],
   "source": [
    "for x in range(2):\n",
    "    for y in range(3):\n",
    "        print(f\"({x},{y})\")"
   ]
  },
  {
   "cell_type": "markdown",
   "metadata": {},
   "source": [
    "while loop\n",
    "it is use to execute a block of code multiple times"
   ]
  },
  {
   "cell_type": "code",
   "execution_count": null,
   "metadata": {},
   "outputs": [],
   "source": [
    "number = 1\n",
    "no_limit = 5\n",
    "while number < no_limit:\n",
    "    print(\"$\" * number)\n",
    "    number += 1\n",
    "print(\"submit\")"
   ]
  },
  {
   "cell_type": "code",
   "execution_count": null,
   "metadata": {},
   "outputs": [],
   "source": [
    "import random"
   ]
  },
  {
   "cell_type": "code",
   "execution_count": null,
   "metadata": {},
   "outputs": [],
   "source": [
    "def guess(x):\n",
    "    random_number = random.randint(1,x)\n",
    "    guess=0\n",
    "    while guess != random_number:\n",
    "        guess = int(input(f\"Guess a number between 2 and {x}:\"))\n",
    "        if guess > random_number:\n",
    "            print(\"Oops, number too high\")\n",
    "        elif guess < random_number:\n",
    "            print(\"Number too low\")\n",
    "    else:\n",
    "        print(\"Yay,you got the number correctly,Congrat! you won\")\n",
    "                  \n",
    "                \n",
    "guess(15)"
   ]
  },
  {
   "cell_type": "code",
   "execution_count": null,
   "metadata": {},
   "outputs": [],
   "source": [
    "def computer_guess(x):\n",
    "    low = 1\n",
    "    high = x\n",
    "    feedback = \" \"\n",
    "    \n",
    "    while feedback != \"C\":\n",
    "        if low != high:\n",
    "            guess = random.randint(low,high)\n",
    "        else:\n",
    "            guess = low\n",
    "            feedback = input(f\"Is {guess} too high(H), too low(L) or correct(C):\").lower()\n",
    "        if feedback == \"h\":\n",
    "                high = guess -1\n",
    "        elif feedback == \"l\":\n",
    "                low = guess +1\n",
    "    print(f\"Yoo.., the computer guessed the number{guess},correctly!.\")\n",
    "    \n",
    "    \n",
    "\n",
    "    \n",
    "    \n",
    "computer_guess(10)"
   ]
  }
 ],
 "metadata": {
  "kernelspec": {
   "display_name": "Python 3",
   "language": "python",
   "name": "python3"
  },
  "language_info": {
   "codemirror_mode": {
    "name": "ipython",
    "version": 3
   },
   "file_extension": ".py",
   "mimetype": "text/x-python",
   "name": "python",
   "nbconvert_exporter": "python",
   "pygments_lexer": "ipython3",
   "version": "3.8.3"
  }
 },
 "nbformat": 4,
 "nbformat_minor": 4
}
