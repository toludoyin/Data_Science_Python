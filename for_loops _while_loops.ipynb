{
 "cells": [
  {
   "cell_type": "markdown",
   "metadata": {},
   "source": [
    "# For loop and while loop"
   ]
  },
  {
   "cell_type": "markdown",
   "metadata": {},
   "source": [
    "### For loop\n",
    " it is used to iterate over an item of collection e.g a string"
   ]
  },
  {
   "cell_type": "code",
   "execution_count": 3,
   "metadata": {},
   "outputs": [],
   "source": [
    "learning=[\"youtube\", \"datacamp\", \"cousera\", \"udemy\"]"
   ]
  },
  {
   "cell_type": "code",
   "execution_count": 6,
   "metadata": {},
   "outputs": [
    {
     "name": "stdout",
     "output_type": "stream",
     "text": [
      "index  0 : youtube\n",
      "index  1 : datacamp\n",
      "index  2 : cousera\n",
      "index  3 : udemy\n"
     ]
    }
   ],
   "source": [
    "for index, a in enumerate(learning):\n",
    "    print(f\"index  {str(index)} : {str(a)}\")"
   ]
  },
  {
   "cell_type": "code",
   "execution_count": 7,
   "metadata": {},
   "outputs": [
    {
     "name": "stdout",
     "output_type": "stream",
     "text": [
      "3582\n"
     ]
    }
   ],
   "source": [
    "total1=0\n",
    "for i in range(1,100):\n",
    "    if i % 3 or i % 5 == 0:\n",
    "        total1+=i\n",
    "print(total1)"
   ]
  },
  {
   "cell_type": "markdown",
   "metadata": {},
   "source": [
    "Iterating thorough or using a given number"
   ]
  },
  {
   "cell_type": "code",
   "execution_count": 8,
   "metadata": {},
   "outputs": [
    {
     "name": "stdout",
     "output_type": "stream",
     "text": [
      " AAAA\n",
      " AAAAAA\n",
      " AAAAAAAA\n"
     ]
    }
   ],
   "source": [
    "list=[4,6,8]\n",
    "for new_list1 in list:\n",
    "    new_list = \" \"\n",
    "    for x in range(new_list1):\n",
    "        new_list += \"A\"\n",
    "    print(new_list)"
   ]
  },
  {
   "cell_type": "markdown",
   "metadata": {},
   "source": [
    "### Nested loop; adding a loop inside another loop. \n",
    "break;is use to terminate a loop"
   ]
  },
  {
   "cell_type": "code",
   "execution_count": 9,
   "metadata": {},
   "outputs": [
    {
     "name": "stdout",
     "output_type": "stream",
     "text": [
      "(0,0)\n",
      "(0,1)\n",
      "(0,2)\n",
      "(1,0)\n",
      "(1,1)\n",
      "(1,2)\n"
     ]
    }
   ],
   "source": [
    "for x in range(2):\n",
    "    for y in range(3):\n",
    "        print(f\"({x},{y})\")"
   ]
  },
  {
   "cell_type": "code",
   "execution_count": 9,
   "metadata": {},
   "outputs": [
    {
     "name": "stdout",
     "output_type": "stream",
     "text": [
      "This are my answers: name- toludoyin\n",
      "This are my answers: level- top\n",
      "This are my answers: class- 1\n",
      "This are my answers: executive- True\n"
     ]
    }
   ],
   "source": [
    "# Dictionary\n",
    "key_value= {\"name\":\"toludoyin\", \"level\":\"top\", \"class\":1, \"executive\":True}\n",
    "for key,value in key_value.items():\n",
    "    print(f\"This are my answers: {key}- {value}\")"
   ]
  },
  {
   "cell_type": "code",
   "execution_count": 14,
   "metadata": {},
   "outputs": [
    {
     "name": "stdout",
     "output_type": "stream",
     "text": [
      "class 1\n",
      "executive True\n",
      "level top\n",
      "name toludoyin\n"
     ]
    }
   ],
   "source": [
    "# to sort by keys in a dict\n",
    "for s in sorted(key_value):\n",
    "    print(s,(key_value[s]))\n"
   ]
  },
  {
   "cell_type": "code",
   "execution_count": 26,
   "metadata": {},
   "outputs": [
    {
     "name": "stdout",
     "output_type": "stream",
     "text": [
      "('class', 1) ('executive', True) ('level', 'top') ('name', 'toludoyin') "
     ]
    }
   ],
   "source": [
    "# function calling\n",
    "def dictionary():\n",
    "    key_value= {\"name\":\"toludoyin\", \"level\":\"top\", \"class\":1, \"executive\":True}\n",
    "    for s in sorted(key_value):\n",
    "        print((s,key_value[s]),end = \" \")\n",
    "        \n",
    "def main():\n",
    "    dictionary()\n",
    "    \n",
    "if __name__==\"__main__\":\n",
    "    main()\n"
   ]
  },
  {
   "cell_type": "markdown",
   "metadata": {},
   "source": [
    "### While loop\n",
    "while loop is a repeated if statement. it is use to execute a block of code multiple times until a particular condition is met"
   ]
  },
  {
   "cell_type": "code",
   "execution_count": null,
   "metadata": {},
   "outputs": [],
   "source": [
    "number = 1\n",
    "no_limit = 5\n",
    "while number < no_limit:\n",
    "    print(\"$\" * number)\n",
    "    number += 1\n",
    "print(\"submit\")"
   ]
  },
  {
   "cell_type": "code",
   "execution_count": null,
   "metadata": {},
   "outputs": [],
   "source": [
    "counts=1\n",
    "while counts <= 4:\n",
    "    print('counts is:{}'.format(counts))\n",
    "    counts +=1\n",
    "print('Done')"
   ]
  },
  {
   "cell_type": "code",
   "execution_count": null,
   "metadata": {},
   "outputs": [],
   "source": [
    "x=0\n",
    "while x<=36:\n",
    "    print(f\"The numbers is: {x}\")\n",
    "    x+=6"
   ]
  },
  {
   "cell_type": "code",
   "execution_count": 1,
   "metadata": {},
   "outputs": [
    {
     "name": "stdout",
     "output_type": "stream",
     "text": [
      "12.5\n",
      "3.125\n",
      "0.78125\n"
     ]
    }
   ],
   "source": [
    "error=50\n",
    "while error >1:\n",
    "    error=error/4\n",
    "    print(error)"
   ]
  },
  {
   "cell_type": "markdown",
   "metadata": {},
   "source": [
    "#### Number Guessing Game"
   ]
  },
  {
   "cell_type": "code",
   "execution_count": null,
   "metadata": {},
   "outputs": [],
   "source": [
    "import random\n",
    "\n",
    "def guess(x):\n",
    "    random_number = random.randint(1,x)\n",
    "    guess=0\n",
    "    while guess != random_number:\n",
    "        guess = int(input(f\"Guess a number between 2 and {x}:\"))\n",
    "        if guess > random_number:\n",
    "            print(\"Oops, number too high\")\n",
    "        elif guess < random_number:\n",
    "            print(\"Number too low\")\n",
    "    else:\n",
    "        print(\"Yay,you got the number correctly,Congrat! you won\")\n",
    "                  \n",
    "                \n",
    "guess(15)"
   ]
  },
  {
   "cell_type": "code",
   "execution_count": null,
   "metadata": {},
   "outputs": [],
   "source": [
    "def computer_guess(x):\n",
    "    low = 1\n",
    "    high = x\n",
    "    feedback = \" \"\n",
    "    \n",
    "    while feedback != \"C\":\n",
    "        if low != high:\n",
    "            guess = random.randint(low,high)\n",
    "        else:\n",
    "            guess = low\n",
    "            feedback = input(f\"Is {guess} too high(H), too low(L) or correct(C):\").lower()\n",
    "        if feedback == \"h\":\n",
    "                high = guess -1\n",
    "        elif feedback == \"l\":\n",
    "                low = guess +1\n",
    "    print(f\"Yoo.., the computer guessed the number{guess},correctly!.\")\n",
    "    \n",
    "    \n",
    "computer_guess(10)"
   ]
  }
 ],
 "metadata": {
  "kernelspec": {
   "display_name": "Python 3",
   "language": "python",
   "name": "python3"
  },
  "language_info": {
   "codemirror_mode": {
    "name": "ipython",
    "version": 3
   },
   "file_extension": ".py",
   "mimetype": "text/x-python",
   "name": "python",
   "nbconvert_exporter": "python",
   "pygments_lexer": "ipython3",
   "version": "3.8.3"
  }
 },
 "nbformat": 4,
 "nbformat_minor": 4
}
